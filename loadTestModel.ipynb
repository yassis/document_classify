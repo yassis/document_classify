{
 "cells": [
  {
   "cell_type": "code",
   "execution_count": 1,
   "id": "7679d0b9-5827-4fad-aa75-87c4da70cb80",
   "metadata": {},
   "outputs": [
    {
     "name": "stderr",
     "output_type": "stream",
     "text": [
      "2024-06-08 20:12:06.781007: I tensorflow/core/platform/cpu_feature_guard.cc:210] This TensorFlow binary is optimized to use available CPU instructions in performance-critical operations.\n",
      "To enable the following instructions: AVX2 FMA, in other operations, rebuild TensorFlow with the appropriate compiler flags.\n"
     ]
    }
   ],
   "source": [
    "\"\"\" loadTestModel.py\n",
    "    \n",
    "        Check that one can start predicting with just the files\n",
    "        found in the \"trained model\" directory.\n",
    "\"\"\"\n",
    "\n",
    "import sys\n",
    "\n",
    "import json\n",
    "from tensorflow.keras.preprocessing.sequence import pad_sequences\n",
    "from tensorflow.keras.preprocessing.text import tokenizer_from_json\n",
    "from tensorflow.keras import models"
   ]
  },
  {
   "cell_type": "code",
   "execution_count": 2,
   "id": "4183ccef-6d86-4cf0-9d94-c7fcfabb62f7",
   "metadata": {},
   "outputs": [],
   "source": [
    "\n",
    "# in\n",
    "trainedModelFile = 'training/trained_model_v1/doc_classify_model.h5'\n",
    "trainedMetadataFile = 'training/trained_model_v1/doc_metadata.json'\n",
    "trainedTokenizerFile = 'training/trained_model_v1/doc_tokenizer.json'"
   ]
  },
  {
   "cell_type": "code",
   "execution_count": 3,
   "id": "8e104cb6-cea8-4970-ae80-b83921229974",
   "metadata": {},
   "outputs": [
    {
     "name": "stderr",
     "output_type": "stream",
     "text": [
      "WARNING:absl:Compiled the loaded model, but the compiled metrics have yet to be built. `model.compile_metrics` will be empty until you train or evaluate the model.\n"
     ]
    }
   ],
   "source": [
    "# Load tokenizer and metadata:\n",
    "#   (in metadata, we'll need keys 'label_legend_inverted' and 'max_seq_length')\n",
    "tokenizer = tokenizer_from_json(open(trainedTokenizerFile).read())\n",
    "metadata = json.load(open(trainedMetadataFile))\n",
    "# Load the model:\n",
    "model = models.load_model(trainedModelFile)\n"
   ]
  },
  {
   "cell_type": "code",
   "execution_count": 4,
   "id": "d65f25f0-0629-4a26-bb26-3a643a98124d",
   "metadata": {},
   "outputs": [],
   "source": [
    "\n",
    "\n",
    "# a function for testing:\n",
    "def classifyDoc(text, classifyModel, pMaxSequence, pLabelLegendInverted, pTokenizer):\n",
    "    sequences = pTokenizer.texts_to_sequences([text])\n",
    "    xInput = pad_sequences(sequences, maxlen=pMaxSequence)\n",
    "    yOutput = classifyModel.predict(xInput)\n",
    "    preds = yOutput[0]\n",
    "    labeledPredictions = {pLabelLegendInverted[str(i)]: x for i, x in enumerate(preds)}\n",
    "    return labeledPredictions\n"
   ]
  },
  {
   "cell_type": "code",
   "execution_count": 8,
   "id": "095423f3-a1e1-4598-89fe-5d2d959481d8",
   "metadata": {},
   "outputs": [
    {
     "name": "stdout",
     "output_type": "stream",
     "text": [
      "\n",
      "\tMODEL TEST:\n",
      "====================\n",
      "\u001b[1m1/1\u001b[0m \u001b[32m━━━━━━━━━━━━━━━━━━━━\u001b[0m\u001b[37m\u001b[0m \u001b[1m1s\u001b[0m 777ms/step\n",
      "TEXT       = Growth in Japan evaporated in the three months to September, sparking renewed concern about an economy not long out of a decade-long trough.\n",
      "PREDICTION = {'technologie': 0.058473203, 'entertainment': 0.029268414, 'other': 0.031726066, 'business': 0.059240174, 'sport': 0.04151596, 'politics': 0.057238925, 'historical': 0.026255485, 'medical': 0.21293281, 'food': 0.16475269, 'space': 0.12502299, 'graphics': 0.1935733}\n",
      "********************\n",
      "\u001b[1m1/1\u001b[0m \u001b[32m━━━━━━━━━━━━━━━━━━━━\u001b[0m\u001b[37m\u001b[0m \u001b[1m1s\u001b[0m 622ms/step\n",
      "TEXT       = Northern Ireland man James McIlroy is confident he can win his first major title at this weekends Spar European Indoor Championships in Madrid.\n",
      "PREDICTION = {'technologie': 0.05507234, 'entertainment': 0.027799955, 'other': 0.031154277, 'business': 0.058582425, 'sport': 0.043955814, 'politics': 0.05505538, 'historical': 0.025594324, 'medical': 0.20245102, 'food': 0.18471241, 'space': 0.12309746, 'graphics': 0.1925247}\n",
      "********************\n"
     ]
    }
   ],
   "source": [
    "input_texts = [\"\"\"ufthansa flies back to profit\n",
    "\n",
    "German airline Lufthansa has returned to profit in 2004 after posting huge losses in 2003.\n",
    "\n",
    "In a preliminary report, the airline announced net profits of 400m euros ($527.61m; £274.73m), compared with a loss of 984m euros in 2003. \"\"\"]\n",
    "input_texts = []\n",
    "if input_texts == []:\n",
    "    # texts for the test\n",
    "    sampleTexts = [\n",
    "        'Growth in Japan evaporated in the three months to September, sparking renewed concern about an economy not long out of a decade-long trough.',\n",
    "        'Northern Ireland man James McIlroy is confident he can win his first major title at this weekends Spar European Indoor Championships in Madrid.',\n",
    "    ]\n",
    "else:\n",
    "    sampleTexts = [\n",
    "        ' '.join(sys.argv[1:])\n",
    "    ]\n",
    "\n",
    "# simple test:\n",
    "print('\\n\\tMODEL TEST:')\n",
    "print('=' * 20)\n",
    "for st in sampleTexts:\n",
    "    preds = classifyDoc(st, model, metadata['max_seq_length'], metadata['label_legend_inverted'], tokenizer)\n",
    "    print('TEXT       = %s' % st)\n",
    "    print('PREDICTION = %s' % str(preds))\n",
    "    print('*' * 20)"
   ]
  },
  {
   "cell_type": "code",
   "execution_count": null,
   "id": "1bc8c11e-8a07-4356-a77f-9c6a1e10a5b8",
   "metadata": {},
   "outputs": [],
   "source": []
  }
 ],
 "metadata": {
  "kernelspec": {
   "display_name": "Python 3 (ipykernel)",
   "language": "python",
   "name": "python3"
  },
  "language_info": {
   "codemirror_mode": {
    "name": "ipython",
    "version": 3
   },
   "file_extension": ".py",
   "mimetype": "text/x-python",
   "name": "python",
   "nbconvert_exporter": "python",
   "pygments_lexer": "ipython3",
   "version": "3.11.5"
  }
 },
 "nbformat": 4,
 "nbformat_minor": 5
}

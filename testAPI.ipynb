{
 "cells": [
  {
   "cell_type": "code",
   "execution_count": 145,
   "id": "53ebcd95-78f5-4a12-9e66-09b2c2e8c751",
   "metadata": {},
   "outputs": [],
   "source": [
    "import requests\n",
    "import sys"
   ]
  },
  {
   "cell_type": "code",
   "execution_count": 168,
   "id": "66e8d969-5370-4f79-a2e0-18505661e86b",
   "metadata": {},
   "outputs": [],
   "source": [
    "API_BASE_URL = 'http://localhost:8000'\n",
    "\n",
    "documents = [\n",
    "    \"\"\"Growth in Japan evaporated in the three months to September, sparking renewed concern about an economy not long out of a decade-long trough.\"\"\",\n",
    "    \"\"\"Northern Ireland man James McIlroy is confident he can win his first major title at this weekends Spar European Indoor Championships in Madrid.\"\"\",\n",
    "    \"\"\"Grilled Shrimp Tacos with Avocado-Corn Salsa\n",
    "instruction \n",
    "Remove the corn kernels from the cobs: Place a large container on a damp towel. Fold a paper towel into fourths and place it inside the container. Stand 1 ear of corn on the paper towel, using the stem as a handle. Using a paring knife, slice downward, letting the kernels fall into the container. Rotate the cob and continue until all the kernels have been removed; discard the cob. Repeat with the remaining corn. Discard the paper towel.\n",
    "Add the scallions, tomatoes, measured lime juice, cilantro, serrano, and measured salt and stir to combine.\n",
    "Halve and pit the avocados. Using a paring knife, score the flesh of the avocado halves in a 1/4-inch-wide crosshatch pattern (be careful not to cut through the skin). Using a spoon, scoop the avocado pieces into the corn mixture and gently fold to combine.\n",
    "Taste and add more lime juice or salt as needed; set aside.\n",
    "For the tacos:\n",
    "Heat an outdoor grill to high (about 450°F to 550°F). Meanwhile, assemble the shrimp.\n",
    "Whisk the lime juice, oil, chipotle powder, salt, and cumin together in a large bowl. Add the shrimp and toss to combine.\n",
    "Skewer each shrimp through the tail and head ends, leaving about 1/4 inch of space between each shrimp. Transfer the skewers to a baking sheet.\n",
    "Place the skewers in a single layer on the grill without touching. Close the grill and cook until grill marks appear on the bottom, about 4 minutes. Flip the skewers, close the grill, and cook until the shrimp are just firm, about 1 minute more. Transfer the skewers to a clean baking sheet.\n",
    "Remove and discard the skewers, transfer the shrimp to a cutting board, and coarsely chop. Place in a serving bowl.\n",
    "Serve the shrimp with the tortillas and salsa.\"\"\", \n",
    "    \"\"\"\n",
    "Once upon a late spring afternoon in the quiet village of Elmswood, an unusual event was unfolding. In a small, secluded garden behind a charming stone cottage, a group of children gathered around an elderly woman named Mrs. Lavender. Her garden, known for its enchanting beauty and variety of flowers, was not just a feast for the eyes but also a sanctuary for the village’s folklore.\n",
    "\n",
    "Mrs. Lavender, with her silver hair gleaming under the sun and eyes twinkling with mischief, was in the midst of telling a tale about the 'Whispering Willows'—a grove of ancient trees at the edge of the village believed to hold the secrets of the land. According to her, these trees were not ordinary; they were the keepers of stories, whispering tales to those who dared to listen closely on wind-swept nights.\n",
    "\n",
    "As her story unfolded, the children sat mesmerized, their imaginations alight with images of heroic deeds and magical creatures that roamed the land long before they were born. Mrs. Lavender described how the willows swayed, their leaves rustling in the gentle breeze, each whisper a verse of an age-old song.\n",
    "\n",
    "Suddenly, a soft breeze stirred in the garden, causing the nearby bushes to rustle. The children gasped, their eyes wide with wonder, half-expecting a fairy or a sprite to emerge. Mrs. Lavender chuckled softly, pleased with the effect her story had on the young minds.\"\"\",\n",
    "    \"\"\" In the sleepy town of Maple Hollow, an intriguing tradition captured the hearts of its residents every autumn. It was the time of the annual Leaf Race, a quirky but beloved event where the townspeople gathered along the banks of the gently flowing Willow Creek to witness a spectacle dictated not by speed, but by the whims of the wind and water.\n",
    "\n",
    "The event was simple yet captivating: participants would choose a fallen leaf from the multitude of red, gold, and orange that blanketed the town, each hoping their selection had the magic touch. At noon, a bell would ring from the old clock tower, echoing through the crisp autumn air, signaling the start of the race.\n",
    "\n",
    "Young and old lined the creek, holding their breath as the leaves were gently placed on the water at the starting line, marked by a string of twine stretched across the creek. The current was slow, and the wind was a fickle ally, making every race unpredictable and exciting.\n",
    "\n",
    "As the leaves began their slow journey downstream, cheered on by the crowd, bets were made, and favorites were loudly supported. Children ran alongside the creek, their eyes wide with excitement, following their champion leaves as they bobbed and weaved through the water.\n",
    "\n",
    "Old Mr. Fletcher, the town's unofficial historian, would recount tales from previous races, including the legendary 'Great Drift' of '85, when a single leaf had circled in an eddy for over an hour before finally crossing the finish line, much to the delight of the patient crowd.\n",
    "\n",
    "The race was more than just a competition; it was a celebration of change and the beauty of nature’s cycles. The finish line was near the old wooden bridge, where the town mayor awaited with a handmade trophy, crafted each year by a local artist. This trophy, a wooden leaf painted with the year and adorned with a swirl of colors, represented the spirit of Maple Hollow.\"\"\"\n",
    "]"
   ]
  },
  {
   "cell_type": "code",
   "execution_count": 169,
   "id": "79ad7680-af68-4ccf-ba2a-1073d79004e8",
   "metadata": {},
   "outputs": [],
   "source": [
    "\n",
    "def predictSingle(text):\n",
    "    url = API_BASE_URL + '/classify_document'\n",
    "    payload = {\n",
    "        'document_text': text\n",
    "    }\n",
    "    req = requests.post(url, json=payload)\n",
    "    #\n",
    "\n",
    "    if req.status_code != 200:\n",
    "        return False\n",
    "    else:\n",
    "        rj = req.json()\n",
    "\n",
    "        return rj['top']['label']\n",
    "\n",
    "\n",
    "def predictMultiple(texts):\n",
    "    url = API_BASE_URL + '/classify_documents'\n",
    "\n",
    "    payload = {\n",
    "        'texts': texts,\n",
    "    }\n",
    "    req = requests.post(url, json=payload)\n",
    "    #\n",
    "    if req.status_code != 200:\n",
    "        return False\n",
    "    else:\n",
    "        rj = req.json()\n",
    "        return [\n",
    "            rjs['top']['label'] for rjs in rj\n",
    "        ]\n"
   ]
  },
  {
   "cell_type": "code",
   "execution_count": 170,
   "id": "b1a70010-e78d-4925-89bd-136d18e28b67",
   "metadata": {
    "scrolled": true
   },
   "outputs": [
    {
     "data": {
      "text/plain": [
       "'business'"
      ]
     },
     "execution_count": 170,
     "metadata": {},
     "output_type": "execute_result"
    }
   ],
   "source": [
    "predictSingle(documents[0])"
   ]
  },
  {
   "cell_type": "code",
   "execution_count": 171,
   "id": "18cd8846-3af8-419e-a93e-1c010ccb08d5",
   "metadata": {},
   "outputs": [
    {
     "data": {
      "text/plain": [
       "'sport'"
      ]
     },
     "execution_count": 171,
     "metadata": {},
     "output_type": "execute_result"
    }
   ],
   "source": [
    "predictSingle(documents[1])"
   ]
  },
  {
   "cell_type": "code",
   "execution_count": 172,
   "id": "7d9dd5cb-1c73-4576-97ed-119397e906be",
   "metadata": {},
   "outputs": [
    {
     "data": {
      "text/plain": [
       "'food'"
      ]
     },
     "execution_count": 172,
     "metadata": {},
     "output_type": "execute_result"
    }
   ],
   "source": [
    "predictSingle(documents[2])"
   ]
  },
  {
   "cell_type": "code",
   "execution_count": 177,
   "id": "e17b5a9f-acf4-4364-86a4-5ef719128e4a",
   "metadata": {},
   "outputs": [
    {
     "data": {
      "text/plain": [
       "['business', 'sport', 'food', 'historical', 'sport']"
      ]
     },
     "execution_count": 177,
     "metadata": {},
     "output_type": "execute_result"
    }
   ],
   "source": [
    "predictMultiple(documents)"
   ]
  },
  {
   "cell_type": "code",
   "execution_count": null,
   "id": "0c34576d-ef24-4990-b4e2-d065782eba24",
   "metadata": {},
   "outputs": [],
   "source": []
  }
 ],
 "metadata": {
  "kernelspec": {
   "display_name": "Python 3 (ipykernel)",
   "language": "python",
   "name": "python3"
  },
  "language_info": {
   "codemirror_mode": {
    "name": "ipython",
    "version": 3
   },
   "file_extension": ".py",
   "mimetype": "text/x-python",
   "name": "python",
   "nbconvert_exporter": "python",
   "pygments_lexer": "ipython3",
   "version": "3.11.5"
  }
 },
 "nbformat": 4,
 "nbformat_minor": 5
}
